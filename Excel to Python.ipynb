{
 "cells": [
  {
   "cell_type": "markdown",
   "metadata": {
    "nbpresent": {
     "id": "2add81bd-64fa-4299-8ee4-a5112084b19f"
    },
    "slideshow": {
     "slide_type": "slide"
    }
   },
   "source": [
    "<h1>Excel to Python</h1>\n",
    "<h2>A Brief Guide to How and Why</h2>"
   ]
  },
  {
   "cell_type": "markdown",
   "metadata": {
    "nbpresent": {
     "id": "9688630a-ef7b-4ed5-87d8-a56d6bd800e0"
    },
    "slideshow": {
     "slide_type": "slide"
    }
   },
   "source": [
    "### Quick Biography"
   ]
  },
  {
   "cell_type": "markdown",
   "metadata": {
    "nbpresent": {
     "id": "700d8a16-a6ec-43a0-bedd-33ef85ef2b79"
    },
    "slideshow": {
     "slide_type": "subslide"
    }
   },
   "source": [
    "<b>Name:</b> Fady Megally  \n",
    "<b>Birthday :</b> June 21st  \n",
    "<b>Occupation:</b> Engineer at Caterpillar Inc.  \n",
    "<b>Technical Background:</b>  \n",
    "<ul>\n",
    "<li>BSc in Mechanical Engineering</li>\n",
    "<li>Experience in internal combustion engines design, simulation product life cycle management.</li>\n",
    "</ul>"
   ]
  },
  {
   "cell_type": "markdown",
   "metadata": {
    "nbpresent": {
     "id": "260d8e81-76a7-4efe-9fe8-632b09ee0a0b"
    }
   },
   "source": [
    "### Why Use Python Instead of Excel ?"
   ]
  },
  {
   "cell_type": "markdown",
   "metadata": {
    "nbpresent": {
     "id": "459619a4-0315-488b-9393-7e11af8c5851"
    }
   },
   "source": [
    "<ul>\n",
    "<li>Mainly to automate repeating tasks that would either be done manualy or using VBA macros</li>\n",
    "<li>If you for some reason hate Microsoft</li>\n",
    "<li>Don't want to pay for MS Office</li>\n",
    "<li>It's the path less chosen</li>\n",
    "<li>All of the above</li>"
   ]
  },
  {
   "cell_type": "markdown",
   "metadata": {
    "nbpresent": {
     "id": "a0e0de58-6ea9-4d4e-ba7d-50116cee7fee"
    }
   },
   "source": [
    "<table>\n",
    "<tr>\n",
    "<th>Pros</th>\n",
    "<th>Cons</th>\n",
    "</tr>\n",
    "<tr>\n",
    "<td>Would make your life easier if you have to repeat the same process again and again</td>\n",
    "<td>Not for simple and short Excel tasks. Only pays-off for tasks above a certain size and complexity</td>\n",
    "</tr>\n",
    "<tr>\n",
    "<td>Whatever the script does is self-documenting. In excel the user has to remember to follow the same steps.</td>\n",
    "<td>Some features that are one click of a button in excel could require a significant amount of lines to implement</td>\n",
    "</tr>\n",
    "<tr>\n",
    "<td>More useful and portable than VBA. Learn one language to do many things.</td>\n",
    "<td>Prone to hidden bugs not always detectable right away.</td>\n",
    "</tr>\n",
    "<tr>\n",
    "<td>Can do some things Excel can’t do</td>\n",
    "<td>There is a learning curve</td>\n",
    "</tr>\n",
    "<tr>\n",
    "<td>Open-source and free (as in free beer)</td>\n",
    "<td>No pretty formatting without extra coding/libraries</td>\n",
    "</tr>\n",
    "\n",
    "    "
   ]
  },
  {
   "cell_type": "markdown",
   "metadata": {
    "nbpresent": {
     "id": "b01f81f7-4e35-4547-a926-5b92677638f6"
    }
   },
   "source": [
    "### What you'll need..most of the time"
   ]
  },
  {
   "cell_type": "markdown",
   "metadata": {
    "nbpresent": {
     "id": "943589e0-c886-4db3-9652-b1675ee0205f"
    }
   },
   "source": [
    "<b>pandas</b> : <em>Data analysis library that provides DataFrame objects, a data structure which resembles an Excel worksheet.</em>  \n",
    "<b>matplotlib</b> : <em>Ploting and data visualization library</em>  \n",
    "<b>pyodbc</b> : <em>A library that provides ODBC features ( connecting to, and querying databases)</em>"
   ]
  },
  {
   "cell_type": "code",
   "execution_count": 52,
   "metadata": {
    "collapsed": false,
    "nbpresent": {
     "id": "f3361dfc-8958-4684-954a-f36d44a786f9"
    }
   },
   "outputs": [],
   "source": [
    "import pandas as pd\n",
    "import matplotlib.pyplot as plt\n",
    "import pyodbc as db\n",
    "import numpy as np"
   ]
  },
  {
   "cell_type": "markdown",
   "metadata": {
    "nbpresent": {
     "id": "1cbed8ff-df90-4dc7-98e7-a84f10bec7cc"
    }
   },
   "source": [
    "###  Database Queries "
   ]
  },
  {
   "cell_type": "code",
   "execution_count": 53,
   "metadata": {
    "collapsed": false,
    "nbpresent": {
     "id": "840e6401-9dd1-4ffb-896c-77f1bb95fce3"
    },
    "scrolled": true
   },
   "outputs": [
    {
     "ename": "Error",
     "evalue": "('IM002', '[IM002] [Microsoft][ODBC Driver Manager] Data source name not found and no default driver specified (0) (SQLDriverConnect)')",
     "output_type": "error",
     "traceback": [
      "\u001b[0;31m---------------------------------------------------------------------------\u001b[0m",
      "\u001b[0;31mError\u001b[0m                                     Traceback (most recent call last)",
      "\u001b[0;32m<ipython-input-53-d1c3487c4bdd>\u001b[0m in \u001b[0;36m<module>\u001b[0;34m()\u001b[0m\n\u001b[0;32m----> 1\u001b[0;31m \u001b[0mcnxn\u001b[0m \u001b[1;33m=\u001b[0m \u001b[0mdb\u001b[0m\u001b[1;33m.\u001b[0m\u001b[0mconnect\u001b[0m\u001b[1;33m(\u001b[0m\u001b[1;34m\"DSN=server_name;UID=userid;PWD=password\"\u001b[0m\u001b[1;33m)\u001b[0m\u001b[1;33m\u001b[0m\u001b[0m\n\u001b[0m\u001b[1;32m      2\u001b[0m \u001b[0msql_query\u001b[0m \u001b[1;33m=\u001b[0m \u001b[1;34m\"SELECT * FROM table1\"\u001b[0m\u001b[1;33m\u001b[0m\u001b[0m\n\u001b[1;32m      3\u001b[0m \u001b[0mdata\u001b[0m \u001b[1;33m=\u001b[0m \u001b[0mpd\u001b[0m\u001b[1;33m.\u001b[0m\u001b[0mread_sql\u001b[0m\u001b[1;33m(\u001b[0m\u001b[0msql_query\u001b[0m\u001b[1;33m,\u001b[0m\u001b[0mcnxn\u001b[0m\u001b[1;33m)\u001b[0m\u001b[1;33m\u001b[0m\u001b[0m\n",
      "\u001b[0;31mError\u001b[0m: ('IM002', '[IM002] [Microsoft][ODBC Driver Manager] Data source name not found and no default driver specified (0) (SQLDriverConnect)')"
     ]
    }
   ],
   "source": [
    "cnxn = db.connect(\"DSN=server_name;UID=userid;PWD=password\")\n",
    "sql_query = \"SELECT * FROM table1\"\n",
    "data = pd.read_sql(sql_query,cnxn)"
   ]
  },
  {
   "cell_type": "markdown",
   "metadata": {
    "nbpresent": {
     "id": "0809a844-9157-4afe-a931-f1c49975d8b1"
    }
   },
   "source": [
    "### Reading Data from Files"
   ]
  },
  {
   "cell_type": "code",
   "execution_count": null,
   "metadata": {
    "collapsed": true,
    "nbpresent": {
     "id": "60eebc55-0d2a-4c55-bd22-fd35b122ee4a"
    }
   },
   "outputs": [],
   "source": [
    "data = pd.read_csv('GenericSalesData.csv')\n"
   ]
  },
  {
   "cell_type": "code",
   "execution_count": null,
   "metadata": {
    "collapsed": false,
    "nbpresent": {
     "id": "32f3f157-829a-442b-8c04-14948bd7c6c4"
    }
   },
   "outputs": [],
   "source": [
    "data.tail()"
   ]
  },
  {
   "cell_type": "markdown",
   "metadata": {
    "nbpresent": {
     "id": "97a38b04-8c13-4d96-899a-d13d1f8b790f"
    }
   },
   "source": [
    "### Selecting & Indexing"
   ]
  },
  {
   "cell_type": "markdown",
   "metadata": {
    "nbpresent": {
     "id": "1a16171d-af38-4c03-ac86-97726488b09e"
    }
   },
   "source": [
    "<h4>Columns</h4>\n",
    "You can select colulmns by using the column name as an index  \n",
    "<code>data_frame_foo['column_name']</code>  \n",
    "To select more than one column you can use a list of column names.  \n",
    "<code>data_frame_foo[['column_1','column_2']]</code>. Columns will be returned in the order you asked for  \n",
    "p.s: Don't forget the inner barckets !!\n",
    "\n",
    "<h4>Rows</h4>\n",
    "Rows can be selected in more than way:\n",
    "<ul>\n",
    "<li>By key : use .ix <code>data_frame_name.ix[key]</code></li>\n",
    "<li>By location : use .iloc <code>data_frame_name.iloc[postition]</code></li>\n",
    "</ul>\n",
    "<h4>Cells</h4>\n",
    "Still by using .iloc <code>data_frame_name.iloc[row,col]</code>"
   ]
  },
  {
   "cell_type": "code",
   "execution_count": null,
   "metadata": {
    "collapsed": false,
    "nbpresent": {
     "id": "25f06f16-0356-40ef-830c-40038d564b2e"
    }
   },
   "outputs": [],
   "source": [
    "data.ix[:,0:-2]"
   ]
  },
  {
   "cell_type": "markdown",
   "metadata": {},
   "source": [
    "## Adding more rows ..\n",
    "To add some aggregate function rows .."
   ]
  },
  {
   "cell_type": "code",
   "execution_count": 40,
   "metadata": {
    "collapsed": false
   },
   "outputs": [],
   "source": [
    "sum_row = pd.DataFrame(data[['Units','Total']].sum())"
   ]
  },
  {
   "cell_type": "code",
   "execution_count": 41,
   "metadata": {
    "collapsed": false
   },
   "outputs": [
    {
     "data": {
      "text/html": [
       "<div>\n",
       "<table border=\"1\" class=\"dataframe\">\n",
       "  <thead>\n",
       "    <tr style=\"text-align: right;\">\n",
       "      <th></th>\n",
       "      <th>0</th>\n",
       "    </tr>\n",
       "  </thead>\n",
       "  <tbody>\n",
       "    <tr>\n",
       "      <th>Units</th>\n",
       "      <td>2121.00</td>\n",
       "    </tr>\n",
       "    <tr>\n",
       "      <th>Total</th>\n",
       "      <td>19627.88</td>\n",
       "    </tr>\n",
       "  </tbody>\n",
       "</table>\n",
       "</div>"
      ],
      "text/plain": [
       "              0\n",
       "Units   2121.00\n",
       "Total  19627.88"
      ]
     },
     "execution_count": 41,
     "metadata": {},
     "output_type": "execute_result"
    }
   ],
   "source": [
    "sum_row"
   ]
  },
  {
   "cell_type": "code",
   "execution_count": 49,
   "metadata": {
    "collapsed": false
   },
   "outputs": [
    {
     "data": {
      "text/html": [
       "<div>\n",
       "<table border=\"1\" class=\"dataframe\">\n",
       "  <thead>\n",
       "    <tr style=\"text-align: right;\">\n",
       "      <th></th>\n",
       "      <th>Item</th>\n",
       "      <th>OrderDate</th>\n",
       "      <th>Region</th>\n",
       "      <th>Rep</th>\n",
       "      <th>Total</th>\n",
       "      <th>UnitCost</th>\n",
       "      <th>Units</th>\n",
       "    </tr>\n",
       "  </thead>\n",
       "  <tbody>\n",
       "    <tr>\n",
       "      <th>48</th>\n",
       "      <td>NaN</td>\n",
       "      <td>NaN</td>\n",
       "      <td>NaN</td>\n",
       "      <td>NaN</td>\n",
       "      <td>NaN</td>\n",
       "      <td>NaN</td>\n",
       "      <td>NaN</td>\n",
       "    </tr>\n",
       "    <tr>\n",
       "      <th>49</th>\n",
       "      <td>NaN</td>\n",
       "      <td>NaN</td>\n",
       "      <td>NaN</td>\n",
       "      <td>NaN</td>\n",
       "      <td>NaN</td>\n",
       "      <td>NaN</td>\n",
       "      <td>NaN</td>\n",
       "    </tr>\n",
       "    <tr>\n",
       "      <th>50</th>\n",
       "      <td>NaN</td>\n",
       "      <td>NaN</td>\n",
       "      <td>NaN</td>\n",
       "      <td>NaN</td>\n",
       "      <td>NaN</td>\n",
       "      <td>NaN</td>\n",
       "      <td>NaN</td>\n",
       "    </tr>\n",
       "    <tr>\n",
       "      <th>51</th>\n",
       "      <td>NaN</td>\n",
       "      <td>NaN</td>\n",
       "      <td>NaN</td>\n",
       "      <td>NaN</td>\n",
       "      <td>NaN</td>\n",
       "      <td>NaN</td>\n",
       "      <td>NaN</td>\n",
       "    </tr>\n",
       "    <tr>\n",
       "      <th>52</th>\n",
       "      <td>NaN</td>\n",
       "      <td>NaN</td>\n",
       "      <td>NaN</td>\n",
       "      <td>NaN</td>\n",
       "      <td>NaN</td>\n",
       "      <td>NaN</td>\n",
       "      <td>NaN</td>\n",
       "    </tr>\n",
       "  </tbody>\n",
       "</table>\n",
       "</div>"
      ],
      "text/plain": [
       "   Item OrderDate Region  Rep  Total  UnitCost  Units\n",
       "48  NaN       NaN    NaN  NaN    NaN       NaN    NaN\n",
       "49  NaN       NaN    NaN  NaN    NaN       NaN    NaN\n",
       "50  NaN       NaN    NaN  NaN    NaN       NaN    NaN\n",
       "51  NaN       NaN    NaN  NaN    NaN       NaN    NaN\n",
       "52  NaN       NaN    NaN  NaN    NaN       NaN    NaN"
      ]
     },
     "execution_count": 49,
     "metadata": {},
     "output_type": "execute_result"
    }
   ],
   "source": [
    "sum_row = sum_row.T.reindex(columns=data.columns)\n",
    "data = data.append(sum_row,ignore_index=True)\n",
    "data.tail()"
   ]
  },
  {
   "cell_type": "code",
   "execution_count": null,
   "metadata": {
    "collapsed": true
   },
   "outputs": [],
   "source": [
    "data = data.append"
   ]
  },
  {
   "cell_type": "code",
   "execution_count": 46,
   "metadata": {
    "collapsed": false
   },
   "outputs": [
    {
     "data": {
      "text/html": [
       "<div>\n",
       "<table border=\"1\" class=\"dataframe\">\n",
       "  <thead>\n",
       "    <tr style=\"text-align: right;\">\n",
       "      <th></th>\n",
       "      <th>Units</th>\n",
       "      <th>Total</th>\n",
       "    </tr>\n",
       "  </thead>\n",
       "  <tbody>\n",
       "    <tr>\n",
       "      <th>0</th>\n",
       "      <td>2121.0</td>\n",
       "      <td>19627.88</td>\n",
       "    </tr>\n",
       "  </tbody>\n",
       "</table>\n",
       "</div>"
      ],
      "text/plain": [
       "    Units     Total\n",
       "0  2121.0  19627.88"
      ]
     },
     "execution_count": 46,
     "metadata": {},
     "output_type": "execute_result"
    }
   ],
   "source": [
    "sum_row"
   ]
  },
  {
   "cell_type": "markdown",
   "metadata": {},
   "source": [
    "## Formatting\n",
    "To add change the format for a certain selection, you can use the <code>.applymap()</code> function to apply an elementwise formatting function to each cell. In general this could be any function that what take one parameter (the cell value) and return one value (stored back in the cell)"
   ]
  },
  {
   "cell_type": "code",
   "execution_count": 8,
   "metadata": {
    "collapsed": false
   },
   "outputs": [
    {
     "data": {
      "text/html": [
       "<div>\n",
       "<table border=\"1\" class=\"dataframe\">\n",
       "  <thead>\n",
       "    <tr style=\"text-align: right;\">\n",
       "      <th></th>\n",
       "      <th>OrderDate</th>\n",
       "      <th>Region</th>\n",
       "      <th>Rep</th>\n",
       "      <th>Item</th>\n",
       "      <th>Units</th>\n",
       "      <th>UnitCost</th>\n",
       "      <th>Total</th>\n",
       "    </tr>\n",
       "  </thead>\n",
       "  <tbody>\n",
       "    <tr>\n",
       "      <th>39</th>\n",
       "      <td>10/31/2017</td>\n",
       "      <td>Central</td>\n",
       "      <td>Andrews</td>\n",
       "      <td>Pencil</td>\n",
       "      <td>14</td>\n",
       "      <td>$1.29</td>\n",
       "      <td>$18.06</td>\n",
       "    </tr>\n",
       "    <tr>\n",
       "      <th>40</th>\n",
       "      <td>11/17/2017</td>\n",
       "      <td>Central</td>\n",
       "      <td>Jardine</td>\n",
       "      <td>Binder</td>\n",
       "      <td>11</td>\n",
       "      <td>$4.99</td>\n",
       "      <td>$54.89</td>\n",
       "    </tr>\n",
       "    <tr>\n",
       "      <th>41</th>\n",
       "      <td>12/4/2017</td>\n",
       "      <td>Central</td>\n",
       "      <td>Jardine</td>\n",
       "      <td>Binder</td>\n",
       "      <td>94</td>\n",
       "      <td>$19.99</td>\n",
       "      <td>$1,879.06</td>\n",
       "    </tr>\n",
       "    <tr>\n",
       "      <th>42</th>\n",
       "      <td>12/21/2017</td>\n",
       "      <td>Central</td>\n",
       "      <td>Andrews</td>\n",
       "      <td>Binder</td>\n",
       "      <td>28</td>\n",
       "      <td>$4.99</td>\n",
       "      <td>$139.72</td>\n",
       "    </tr>\n",
       "    <tr>\n",
       "      <th>43</th>\n",
       "      <td>NaN</td>\n",
       "      <td>NaN</td>\n",
       "      <td>NaN</td>\n",
       "      <td>NaN</td>\n",
       "      <td>2,121</td>\n",
       "      <td>$nan</td>\n",
       "      <td>$19,627.88</td>\n",
       "    </tr>\n",
       "  </tbody>\n",
       "</table>\n",
       "</div>"
      ],
      "text/plain": [
       "     OrderDate   Region      Rep    Item  Units UnitCost       Total\n",
       "39  10/31/2017  Central  Andrews  Pencil     14    $1.29      $18.06\n",
       "40  11/17/2017  Central  Jardine  Binder     11    $4.99      $54.89\n",
       "41   12/4/2017  Central  Jardine  Binder     94   $19.99   $1,879.06\n",
       "42  12/21/2017  Central  Andrews  Binder     28    $4.99     $139.72\n",
       "43         NaN      NaN      NaN     NaN  2,121     $nan  $19,627.88"
      ]
     },
     "execution_count": 8,
     "metadata": {},
     "output_type": "execute_result"
    }
   ],
   "source": [
    "data[['UnitCost','Total']]= data[['UnitCost','Total']].applymap(lambda s:\"${:,.2f}\".format(s))\n",
    "data[['Units']]= data[['Units']].applymap(lambda s:\"{:,.0f}\".format(s))\n",
    "data.tail()"
   ]
  },
  {
   "cell_type": "markdown",
   "metadata": {},
   "source": [
    "## Filtering\n",
    "Filtering works by passing a list of boolean values to the dataframe as a selection criteria.\n",
    "The values themselves can be fed directly, or could be coming from an expressione that yields a boolean value  \n",
    "\n",
    "When filtering using logical operators, parenthesis are necessary to eliminate abiguity"
   ]
  },
  {
   "cell_type": "code",
   "execution_count": 59,
   "metadata": {
    "collapsed": false
   },
   "outputs": [
    {
     "data": {
      "text/html": [
       "<div>\n",
       "<table border=\"1\" class=\"dataframe\">\n",
       "  <thead>\n",
       "    <tr style=\"text-align: right;\">\n",
       "      <th></th>\n",
       "      <th>Item</th>\n",
       "      <th>OrderDate</th>\n",
       "      <th>Region</th>\n",
       "      <th>Rep</th>\n",
       "      <th>Total</th>\n",
       "      <th>UnitCost</th>\n",
       "      <th>Units</th>\n",
       "    </tr>\n",
       "  </thead>\n",
       "  <tbody>\n",
       "    <tr>\n",
       "      <th>14</th>\n",
       "      <td>Desk</td>\n",
       "      <td>9/1/2016</td>\n",
       "      <td>Central</td>\n",
       "      <td>Smith</td>\n",
       "      <td>250.00</td>\n",
       "      <td>125.00</td>\n",
       "      <td>2.0</td>\n",
       "    </tr>\n",
       "    <tr>\n",
       "      <th>15</th>\n",
       "      <td>Pen Set</td>\n",
       "      <td>9/18/2016</td>\n",
       "      <td>East</td>\n",
       "      <td>Jones</td>\n",
       "      <td>255.84</td>\n",
       "      <td>15.99</td>\n",
       "      <td>16.0</td>\n",
       "    </tr>\n",
       "    <tr>\n",
       "      <th>18</th>\n",
       "      <td>Pen</td>\n",
       "      <td>11/8/2016</td>\n",
       "      <td>East</td>\n",
       "      <td>Parent</td>\n",
       "      <td>299.85</td>\n",
       "      <td>19.99</td>\n",
       "      <td>15.0</td>\n",
       "    </tr>\n",
       "    <tr>\n",
       "      <th>31</th>\n",
       "      <td>Desk</td>\n",
       "      <td>6/17/2017</td>\n",
       "      <td>Central</td>\n",
       "      <td>Kivell</td>\n",
       "      <td>625.00</td>\n",
       "      <td>125.00</td>\n",
       "      <td>5.0</td>\n",
       "    </tr>\n",
       "    <tr>\n",
       "      <th>35</th>\n",
       "      <td>Desk</td>\n",
       "      <td>8/24/2017</td>\n",
       "      <td>West</td>\n",
       "      <td>Sorvino</td>\n",
       "      <td>825.00</td>\n",
       "      <td>275.00</td>\n",
       "      <td>3.0</td>\n",
       "    </tr>\n",
       "  </tbody>\n",
       "</table>\n",
       "</div>"
      ],
      "text/plain": [
       "       Item  OrderDate   Region      Rep   Total  UnitCost  Units\n",
       "14     Desk   9/1/2016  Central    Smith  250.00    125.00    2.0\n",
       "15  Pen Set  9/18/2016     East    Jones  255.84     15.99   16.0\n",
       "18      Pen  11/8/2016     East   Parent  299.85     19.99   15.0\n",
       "31     Desk  6/17/2017  Central   Kivell  625.00    125.00    5.0\n",
       "35     Desk  8/24/2017     West  Sorvino  825.00    275.00    3.0"
      ]
     },
     "execution_count": 59,
     "metadata": {},
     "output_type": "execute_result"
    }
   ],
   "source": [
    "\n",
    "data[(data['Total']>=200) & (data['Units']<=20)]"
   ]
  },
  {
   "cell_type": "markdown",
   "metadata": {},
   "source": [
    "## Sorting"
   ]
  },
  {
   "cell_type": "code",
   "execution_count": 63,
   "metadata": {
    "collapsed": false
   },
   "outputs": [
    {
     "data": {
      "text/html": [
       "<div>\n",
       "<table border=\"1\" class=\"dataframe\">\n",
       "  <thead>\n",
       "    <tr style=\"text-align: right;\">\n",
       "      <th></th>\n",
       "      <th>Item</th>\n",
       "      <th>OrderDate</th>\n",
       "      <th>Region</th>\n",
       "      <th>Rep</th>\n",
       "      <th>Total</th>\n",
       "      <th>UnitCost</th>\n",
       "      <th>Units</th>\n",
       "    </tr>\n",
       "  </thead>\n",
       "  <tbody>\n",
       "    <tr>\n",
       "      <th>36</th>\n",
       "      <td>Pencil</td>\n",
       "      <td>9/10/2017</td>\n",
       "      <td>Central</td>\n",
       "      <td>Gill</td>\n",
       "      <td>9.03</td>\n",
       "      <td>1.29</td>\n",
       "      <td>7.0</td>\n",
       "    </tr>\n",
       "    <tr>\n",
       "      <th>39</th>\n",
       "      <td>Pencil</td>\n",
       "      <td>10/31/2017</td>\n",
       "      <td>Central</td>\n",
       "      <td>Andrews</td>\n",
       "      <td>18.06</td>\n",
       "      <td>1.29</td>\n",
       "      <td>14.0</td>\n",
       "    </tr>\n",
       "    <tr>\n",
       "      <th>24</th>\n",
       "      <td>Binder</td>\n",
       "      <td>2/18/2017</td>\n",
       "      <td>East</td>\n",
       "      <td>Jones</td>\n",
       "      <td>19.96</td>\n",
       "      <td>4.99</td>\n",
       "      <td>4.0</td>\n",
       "    </tr>\n",
       "    <tr>\n",
       "      <th>40</th>\n",
       "      <td>Binder</td>\n",
       "      <td>11/17/2017</td>\n",
       "      <td>Central</td>\n",
       "      <td>Jardine</td>\n",
       "      <td>54.89</td>\n",
       "      <td>4.99</td>\n",
       "      <td>11.0</td>\n",
       "    </tr>\n",
       "    <tr>\n",
       "      <th>11</th>\n",
       "      <td>Binder</td>\n",
       "      <td>7/12/2016</td>\n",
       "      <td>East</td>\n",
       "      <td>Howard</td>\n",
       "      <td>57.71</td>\n",
       "      <td>1.99</td>\n",
       "      <td>29.0</td>\n",
       "    </tr>\n",
       "    <tr>\n",
       "      <th>8</th>\n",
       "      <td>Pencil</td>\n",
       "      <td>5/22/2016</td>\n",
       "      <td>West</td>\n",
       "      <td>Thompson</td>\n",
       "      <td>63.68</td>\n",
       "      <td>1.99</td>\n",
       "      <td>32.0</td>\n",
       "    </tr>\n",
       "    <tr>\n",
       "      <th>29</th>\n",
       "      <td>Pencil</td>\n",
       "      <td>5/14/2017</td>\n",
       "      <td>Central</td>\n",
       "      <td>Gill</td>\n",
       "      <td>68.37</td>\n",
       "      <td>1.29</td>\n",
       "      <td>53.0</td>\n",
       "    </tr>\n",
       "    <tr>\n",
       "      <th>20</th>\n",
       "      <td>Pencil</td>\n",
       "      <td>12/12/2016</td>\n",
       "      <td>Central</td>\n",
       "      <td>Smith</td>\n",
       "      <td>86.43</td>\n",
       "      <td>1.29</td>\n",
       "      <td>67.0</td>\n",
       "    </tr>\n",
       "    <tr>\n",
       "      <th>27</th>\n",
       "      <td>Pencil</td>\n",
       "      <td>4/10/2017</td>\n",
       "      <td>Central</td>\n",
       "      <td>Andrews</td>\n",
       "      <td>131.34</td>\n",
       "      <td>1.99</td>\n",
       "      <td>66.0</td>\n",
       "    </tr>\n",
       "    <tr>\n",
       "      <th>42</th>\n",
       "      <td>Binder</td>\n",
       "      <td>12/21/2017</td>\n",
       "      <td>Central</td>\n",
       "      <td>Andrews</td>\n",
       "      <td>139.72</td>\n",
       "      <td>4.99</td>\n",
       "      <td>28.0</td>\n",
       "    </tr>\n",
       "    <tr>\n",
       "      <th>25</th>\n",
       "      <td>Binder</td>\n",
       "      <td>3/7/2017</td>\n",
       "      <td>West</td>\n",
       "      <td>Sorvino</td>\n",
       "      <td>139.93</td>\n",
       "      <td>19.99</td>\n",
       "      <td>7.0</td>\n",
       "    </tr>\n",
       "    <tr>\n",
       "      <th>6</th>\n",
       "      <td>Pencil</td>\n",
       "      <td>4/18/2016</td>\n",
       "      <td>Central</td>\n",
       "      <td>Andrews</td>\n",
       "      <td>149.25</td>\n",
       "      <td>1.99</td>\n",
       "      <td>75.0</td>\n",
       "    </tr>\n",
       "    <tr>\n",
       "      <th>37</th>\n",
       "      <td>Pen</td>\n",
       "      <td>9/27/2017</td>\n",
       "      <td>West</td>\n",
       "      <td>Sorvino</td>\n",
       "      <td>151.24</td>\n",
       "      <td>1.99</td>\n",
       "      <td>76.0</td>\n",
       "    </tr>\n",
       "    <tr>\n",
       "      <th>4</th>\n",
       "      <td>Pencil</td>\n",
       "      <td>3/15/2016</td>\n",
       "      <td>West</td>\n",
       "      <td>Sorvino</td>\n",
       "      <td>167.44</td>\n",
       "      <td>2.99</td>\n",
       "      <td>56.0</td>\n",
       "    </tr>\n",
       "    <tr>\n",
       "      <th>13</th>\n",
       "      <td>Pencil</td>\n",
       "      <td>8/15/2016</td>\n",
       "      <td>East</td>\n",
       "      <td>Jones</td>\n",
       "      <td>174.65</td>\n",
       "      <td>4.99</td>\n",
       "      <td>35.0</td>\n",
       "    </tr>\n",
       "    <tr>\n",
       "      <th>2</th>\n",
       "      <td>Pencil</td>\n",
       "      <td>2/9/2016</td>\n",
       "      <td>Central</td>\n",
       "      <td>Jardine</td>\n",
       "      <td>179.64</td>\n",
       "      <td>4.99</td>\n",
       "      <td>36.0</td>\n",
       "    </tr>\n",
       "    <tr>\n",
       "      <th>0</th>\n",
       "      <td>Pencil</td>\n",
       "      <td>1/6/2016</td>\n",
       "      <td>East</td>\n",
       "      <td>Jones</td>\n",
       "      <td>189.05</td>\n",
       "      <td>1.99</td>\n",
       "      <td>95.0</td>\n",
       "    </tr>\n",
       "    <tr>\n",
       "      <th>26</th>\n",
       "      <td>Pen Set</td>\n",
       "      <td>3/24/2017</td>\n",
       "      <td>Central</td>\n",
       "      <td>Jardine</td>\n",
       "      <td>249.50</td>\n",
       "      <td>4.99</td>\n",
       "      <td>50.0</td>\n",
       "    </tr>\n",
       "    <tr>\n",
       "      <th>14</th>\n",
       "      <td>Desk</td>\n",
       "      <td>9/1/2016</td>\n",
       "      <td>Central</td>\n",
       "      <td>Smith</td>\n",
       "      <td>250.00</td>\n",
       "      <td>125.00</td>\n",
       "      <td>2.0</td>\n",
       "    </tr>\n",
       "    <tr>\n",
       "      <th>16</th>\n",
       "      <td>Binder</td>\n",
       "      <td>10/5/2016</td>\n",
       "      <td>Central</td>\n",
       "      <td>Morgan</td>\n",
       "      <td>251.72</td>\n",
       "      <td>8.99</td>\n",
       "      <td>28.0</td>\n",
       "    </tr>\n",
       "    <tr>\n",
       "      <th>15</th>\n",
       "      <td>Pen Set</td>\n",
       "      <td>9/18/2016</td>\n",
       "      <td>East</td>\n",
       "      <td>Jones</td>\n",
       "      <td>255.84</td>\n",
       "      <td>15.99</td>\n",
       "      <td>16.0</td>\n",
       "    </tr>\n",
       "    <tr>\n",
       "      <th>5</th>\n",
       "      <td>Binder</td>\n",
       "      <td>4/1/2016</td>\n",
       "      <td>East</td>\n",
       "      <td>Jones</td>\n",
       "      <td>299.40</td>\n",
       "      <td>4.99</td>\n",
       "      <td>60.0</td>\n",
       "    </tr>\n",
       "    <tr>\n",
       "      <th>18</th>\n",
       "      <td>Pen</td>\n",
       "      <td>11/8/2016</td>\n",
       "      <td>East</td>\n",
       "      <td>Parent</td>\n",
       "      <td>299.85</td>\n",
       "      <td>19.99</td>\n",
       "      <td>15.0</td>\n",
       "    </tr>\n",
       "    <tr>\n",
       "      <th>32</th>\n",
       "      <td>Pen Set</td>\n",
       "      <td>7/4/2017</td>\n",
       "      <td>East</td>\n",
       "      <td>Jones</td>\n",
       "      <td>309.38</td>\n",
       "      <td>4.99</td>\n",
       "      <td>62.0</td>\n",
       "    </tr>\n",
       "    <tr>\n",
       "      <th>22</th>\n",
       "      <td>Binder</td>\n",
       "      <td>1/15/2017</td>\n",
       "      <td>Central</td>\n",
       "      <td>Gill</td>\n",
       "      <td>413.54</td>\n",
       "      <td>8.99</td>\n",
       "      <td>46.0</td>\n",
       "    </tr>\n",
       "    <tr>\n",
       "      <th>10</th>\n",
       "      <td>Pencil</td>\n",
       "      <td>6/25/2016</td>\n",
       "      <td>Central</td>\n",
       "      <td>Morgan</td>\n",
       "      <td>449.10</td>\n",
       "      <td>4.99</td>\n",
       "      <td>90.0</td>\n",
       "    </tr>\n",
       "    <tr>\n",
       "      <th>7</th>\n",
       "      <td>Pencil</td>\n",
       "      <td>5/5/2016</td>\n",
       "      <td>Central</td>\n",
       "      <td>Jardine</td>\n",
       "      <td>449.10</td>\n",
       "      <td>4.99</td>\n",
       "      <td>90.0</td>\n",
       "    </tr>\n",
       "    <tr>\n",
       "      <th>28</th>\n",
       "      <td>Pen</td>\n",
       "      <td>4/27/2017</td>\n",
       "      <td>East</td>\n",
       "      <td>Howard</td>\n",
       "      <td>479.04</td>\n",
       "      <td>4.99</td>\n",
       "      <td>96.0</td>\n",
       "    </tr>\n",
       "    <tr>\n",
       "      <th>19</th>\n",
       "      <td>Pen Set</td>\n",
       "      <td>11/25/2016</td>\n",
       "      <td>Central</td>\n",
       "      <td>Kivell</td>\n",
       "      <td>479.04</td>\n",
       "      <td>4.99</td>\n",
       "      <td>96.0</td>\n",
       "    </tr>\n",
       "    <tr>\n",
       "      <th>9</th>\n",
       "      <td>Binder</td>\n",
       "      <td>6/8/2016</td>\n",
       "      <td>East</td>\n",
       "      <td>Jones</td>\n",
       "      <td>539.40</td>\n",
       "      <td>8.99</td>\n",
       "      <td>60.0</td>\n",
       "    </tr>\n",
       "    <tr>\n",
       "      <th>3</th>\n",
       "      <td>Pen</td>\n",
       "      <td>2/26/2016</td>\n",
       "      <td>Central</td>\n",
       "      <td>Gill</td>\n",
       "      <td>539.73</td>\n",
       "      <td>19.99</td>\n",
       "      <td>27.0</td>\n",
       "    </tr>\n",
       "    <tr>\n",
       "      <th>17</th>\n",
       "      <td>Pen</td>\n",
       "      <td>10/22/2016</td>\n",
       "      <td>East</td>\n",
       "      <td>Jones</td>\n",
       "      <td>575.36</td>\n",
       "      <td>8.99</td>\n",
       "      <td>64.0</td>\n",
       "    </tr>\n",
       "    <tr>\n",
       "      <th>31</th>\n",
       "      <td>Desk</td>\n",
       "      <td>6/17/2017</td>\n",
       "      <td>Central</td>\n",
       "      <td>Kivell</td>\n",
       "      <td>625.00</td>\n",
       "      <td>125.00</td>\n",
       "      <td>5.0</td>\n",
       "    </tr>\n",
       "    <tr>\n",
       "      <th>33</th>\n",
       "      <td>Pen Set</td>\n",
       "      <td>7/21/2017</td>\n",
       "      <td>Central</td>\n",
       "      <td>Morgan</td>\n",
       "      <td>686.95</td>\n",
       "      <td>12.49</td>\n",
       "      <td>55.0</td>\n",
       "    </tr>\n",
       "    <tr>\n",
       "      <th>30</th>\n",
       "      <td>Binder</td>\n",
       "      <td>5/31/2017</td>\n",
       "      <td>Central</td>\n",
       "      <td>Gill</td>\n",
       "      <td>719.20</td>\n",
       "      <td>8.99</td>\n",
       "      <td>80.0</td>\n",
       "    </tr>\n",
       "    <tr>\n",
       "      <th>35</th>\n",
       "      <td>Desk</td>\n",
       "      <td>8/24/2017</td>\n",
       "      <td>West</td>\n",
       "      <td>Sorvino</td>\n",
       "      <td>825.00</td>\n",
       "      <td>275.00</td>\n",
       "      <td>3.0</td>\n",
       "    </tr>\n",
       "    <tr>\n",
       "      <th>1</th>\n",
       "      <td>Binder</td>\n",
       "      <td>1/23/2016</td>\n",
       "      <td>Central</td>\n",
       "      <td>Kivell</td>\n",
       "      <td>999.50</td>\n",
       "      <td>19.99</td>\n",
       "      <td>50.0</td>\n",
       "    </tr>\n",
       "    <tr>\n",
       "      <th>34</th>\n",
       "      <td>Pen Set</td>\n",
       "      <td>8/7/2017</td>\n",
       "      <td>Central</td>\n",
       "      <td>Kivell</td>\n",
       "      <td>1005.90</td>\n",
       "      <td>23.95</td>\n",
       "      <td>42.0</td>\n",
       "    </tr>\n",
       "    <tr>\n",
       "      <th>38</th>\n",
       "      <td>Binder</td>\n",
       "      <td>10/14/2017</td>\n",
       "      <td>West</td>\n",
       "      <td>Thompson</td>\n",
       "      <td>1139.43</td>\n",
       "      <td>19.99</td>\n",
       "      <td>57.0</td>\n",
       "    </tr>\n",
       "    <tr>\n",
       "      <th>21</th>\n",
       "      <td>Pen Set</td>\n",
       "      <td>12/29/2016</td>\n",
       "      <td>East</td>\n",
       "      <td>Parent</td>\n",
       "      <td>1183.26</td>\n",
       "      <td>15.99</td>\n",
       "      <td>74.0</td>\n",
       "    </tr>\n",
       "    <tr>\n",
       "      <th>23</th>\n",
       "      <td>Binder</td>\n",
       "      <td>2/1/2017</td>\n",
       "      <td>Central</td>\n",
       "      <td>Smith</td>\n",
       "      <td>1305.00</td>\n",
       "      <td>15.00</td>\n",
       "      <td>87.0</td>\n",
       "    </tr>\n",
       "    <tr>\n",
       "      <th>12</th>\n",
       "      <td>Binder</td>\n",
       "      <td>7/29/2016</td>\n",
       "      <td>East</td>\n",
       "      <td>Parent</td>\n",
       "      <td>1619.19</td>\n",
       "      <td>19.99</td>\n",
       "      <td>81.0</td>\n",
       "    </tr>\n",
       "    <tr>\n",
       "      <th>41</th>\n",
       "      <td>Binder</td>\n",
       "      <td>12/4/2017</td>\n",
       "      <td>Central</td>\n",
       "      <td>Jardine</td>\n",
       "      <td>1879.06</td>\n",
       "      <td>19.99</td>\n",
       "      <td>94.0</td>\n",
       "    </tr>\n",
       "    <tr>\n",
       "      <th>43</th>\n",
       "      <td>NaN</td>\n",
       "      <td>NaN</td>\n",
       "      <td>NaN</td>\n",
       "      <td>NaN</td>\n",
       "      <td>19627.88</td>\n",
       "      <td>NaN</td>\n",
       "      <td>2121.0</td>\n",
       "    </tr>\n",
       "    <tr>\n",
       "      <th>44</th>\n",
       "      <td>NaN</td>\n",
       "      <td>NaN</td>\n",
       "      <td>NaN</td>\n",
       "      <td>NaN</td>\n",
       "      <td>NaN</td>\n",
       "      <td>NaN</td>\n",
       "      <td>NaN</td>\n",
       "    </tr>\n",
       "    <tr>\n",
       "      <th>45</th>\n",
       "      <td>NaN</td>\n",
       "      <td>NaN</td>\n",
       "      <td>NaN</td>\n",
       "      <td>NaN</td>\n",
       "      <td>NaN</td>\n",
       "      <td>NaN</td>\n",
       "      <td>NaN</td>\n",
       "    </tr>\n",
       "    <tr>\n",
       "      <th>46</th>\n",
       "      <td>NaN</td>\n",
       "      <td>NaN</td>\n",
       "      <td>NaN</td>\n",
       "      <td>NaN</td>\n",
       "      <td>NaN</td>\n",
       "      <td>NaN</td>\n",
       "      <td>NaN</td>\n",
       "    </tr>\n",
       "    <tr>\n",
       "      <th>47</th>\n",
       "      <td>NaN</td>\n",
       "      <td>NaN</td>\n",
       "      <td>NaN</td>\n",
       "      <td>NaN</td>\n",
       "      <td>NaN</td>\n",
       "      <td>NaN</td>\n",
       "      <td>NaN</td>\n",
       "    </tr>\n",
       "    <tr>\n",
       "      <th>48</th>\n",
       "      <td>NaN</td>\n",
       "      <td>NaN</td>\n",
       "      <td>NaN</td>\n",
       "      <td>NaN</td>\n",
       "      <td>NaN</td>\n",
       "      <td>NaN</td>\n",
       "      <td>NaN</td>\n",
       "    </tr>\n",
       "    <tr>\n",
       "      <th>49</th>\n",
       "      <td>NaN</td>\n",
       "      <td>NaN</td>\n",
       "      <td>NaN</td>\n",
       "      <td>NaN</td>\n",
       "      <td>NaN</td>\n",
       "      <td>NaN</td>\n",
       "      <td>NaN</td>\n",
       "    </tr>\n",
       "    <tr>\n",
       "      <th>50</th>\n",
       "      <td>NaN</td>\n",
       "      <td>NaN</td>\n",
       "      <td>NaN</td>\n",
       "      <td>NaN</td>\n",
       "      <td>NaN</td>\n",
       "      <td>NaN</td>\n",
       "      <td>NaN</td>\n",
       "    </tr>\n",
       "    <tr>\n",
       "      <th>51</th>\n",
       "      <td>NaN</td>\n",
       "      <td>NaN</td>\n",
       "      <td>NaN</td>\n",
       "      <td>NaN</td>\n",
       "      <td>NaN</td>\n",
       "      <td>NaN</td>\n",
       "      <td>NaN</td>\n",
       "    </tr>\n",
       "    <tr>\n",
       "      <th>52</th>\n",
       "      <td>NaN</td>\n",
       "      <td>NaN</td>\n",
       "      <td>NaN</td>\n",
       "      <td>NaN</td>\n",
       "      <td>NaN</td>\n",
       "      <td>NaN</td>\n",
       "      <td>NaN</td>\n",
       "    </tr>\n",
       "  </tbody>\n",
       "</table>\n",
       "</div>"
      ],
      "text/plain": [
       "       Item   OrderDate   Region       Rep     Total  UnitCost   Units\n",
       "36   Pencil   9/10/2017  Central      Gill      9.03      1.29     7.0\n",
       "39   Pencil  10/31/2017  Central   Andrews     18.06      1.29    14.0\n",
       "24   Binder   2/18/2017     East     Jones     19.96      4.99     4.0\n",
       "40   Binder  11/17/2017  Central   Jardine     54.89      4.99    11.0\n",
       "11   Binder   7/12/2016     East    Howard     57.71      1.99    29.0\n",
       "8    Pencil   5/22/2016     West  Thompson     63.68      1.99    32.0\n",
       "29   Pencil   5/14/2017  Central      Gill     68.37      1.29    53.0\n",
       "20   Pencil  12/12/2016  Central     Smith     86.43      1.29    67.0\n",
       "27   Pencil   4/10/2017  Central   Andrews    131.34      1.99    66.0\n",
       "42   Binder  12/21/2017  Central   Andrews    139.72      4.99    28.0\n",
       "25   Binder    3/7/2017     West   Sorvino    139.93     19.99     7.0\n",
       "6    Pencil   4/18/2016  Central   Andrews    149.25      1.99    75.0\n",
       "37      Pen   9/27/2017     West   Sorvino    151.24      1.99    76.0\n",
       "4    Pencil   3/15/2016     West   Sorvino    167.44      2.99    56.0\n",
       "13   Pencil   8/15/2016     East     Jones    174.65      4.99    35.0\n",
       "2    Pencil    2/9/2016  Central   Jardine    179.64      4.99    36.0\n",
       "0    Pencil    1/6/2016     East     Jones    189.05      1.99    95.0\n",
       "26  Pen Set   3/24/2017  Central   Jardine    249.50      4.99    50.0\n",
       "14     Desk    9/1/2016  Central     Smith    250.00    125.00     2.0\n",
       "16   Binder   10/5/2016  Central    Morgan    251.72      8.99    28.0\n",
       "15  Pen Set   9/18/2016     East     Jones    255.84     15.99    16.0\n",
       "5    Binder    4/1/2016     East     Jones    299.40      4.99    60.0\n",
       "18      Pen   11/8/2016     East    Parent    299.85     19.99    15.0\n",
       "32  Pen Set    7/4/2017     East     Jones    309.38      4.99    62.0\n",
       "22   Binder   1/15/2017  Central      Gill    413.54      8.99    46.0\n",
       "10   Pencil   6/25/2016  Central    Morgan    449.10      4.99    90.0\n",
       "7    Pencil    5/5/2016  Central   Jardine    449.10      4.99    90.0\n",
       "28      Pen   4/27/2017     East    Howard    479.04      4.99    96.0\n",
       "19  Pen Set  11/25/2016  Central    Kivell    479.04      4.99    96.0\n",
       "9    Binder    6/8/2016     East     Jones    539.40      8.99    60.0\n",
       "3       Pen   2/26/2016  Central      Gill    539.73     19.99    27.0\n",
       "17      Pen  10/22/2016     East     Jones    575.36      8.99    64.0\n",
       "31     Desk   6/17/2017  Central    Kivell    625.00    125.00     5.0\n",
       "33  Pen Set   7/21/2017  Central    Morgan    686.95     12.49    55.0\n",
       "30   Binder   5/31/2017  Central      Gill    719.20      8.99    80.0\n",
       "35     Desk   8/24/2017     West   Sorvino    825.00    275.00     3.0\n",
       "1    Binder   1/23/2016  Central    Kivell    999.50     19.99    50.0\n",
       "34  Pen Set    8/7/2017  Central    Kivell   1005.90     23.95    42.0\n",
       "38   Binder  10/14/2017     West  Thompson   1139.43     19.99    57.0\n",
       "21  Pen Set  12/29/2016     East    Parent   1183.26     15.99    74.0\n",
       "23   Binder    2/1/2017  Central     Smith   1305.00     15.00    87.0\n",
       "12   Binder   7/29/2016     East    Parent   1619.19     19.99    81.0\n",
       "41   Binder   12/4/2017  Central   Jardine   1879.06     19.99    94.0\n",
       "43      NaN         NaN      NaN       NaN  19627.88       NaN  2121.0\n",
       "44      NaN         NaN      NaN       NaN       NaN       NaN     NaN\n",
       "45      NaN         NaN      NaN       NaN       NaN       NaN     NaN\n",
       "46      NaN         NaN      NaN       NaN       NaN       NaN     NaN\n",
       "47      NaN         NaN      NaN       NaN       NaN       NaN     NaN\n",
       "48      NaN         NaN      NaN       NaN       NaN       NaN     NaN\n",
       "49      NaN         NaN      NaN       NaN       NaN       NaN     NaN\n",
       "50      NaN         NaN      NaN       NaN       NaN       NaN     NaN\n",
       "51      NaN         NaN      NaN       NaN       NaN       NaN     NaN\n",
       "52      NaN         NaN      NaN       NaN       NaN       NaN     NaN"
      ]
     },
     "execution_count": 63,
     "metadata": {},
     "output_type": "execute_result"
    }
   ],
   "source": [
    "data.sort_values('Total',inplace=True)\n",
    "data"
   ]
  },
  {
   "cell_type": "markdown",
   "metadata": {},
   "source": [
    "## Pivot Tables"
   ]
  },
  {
   "cell_type": "code",
   "execution_count": 76,
   "metadata": {
    "collapsed": false,
    "nbpresent": {
     "id": "a838d77a-ff1f-4f4f-9c9c-1e28b5ef0ade"
    }
   },
   "outputs": [],
   "source": [
    "pivot_table = data.pivot_table(values='Total',index=['Region'],aggfunc=np.max)"
   ]
  },
  {
   "cell_type": "code",
   "execution_count": 77,
   "metadata": {
    "collapsed": false,
    "nbpresent": {
     "id": "fdfbb8f2-8bc1-4838-b02b-cc075f48f6c6"
    }
   },
   "outputs": [
    {
     "data": {
      "text/plain": [
       "Region\n",
       "Central    1879.06\n",
       "East       1619.19\n",
       "West       1139.43\n",
       "Name: Total, dtype: float64"
      ]
     },
     "execution_count": 77,
     "metadata": {},
     "output_type": "execute_result"
    }
   ],
   "source": [
    "pivot_table"
   ]
  },
  {
   "cell_type": "markdown",
   "metadata": {},
   "source": [
    "## Plotting Data\n",
    "The most commonly used data visualization library is matplotlib.\n",
    "It can be used directly which will allow you to tweak tweak more settings and create your own plot templates.  \n",
    "For quick out-of-the-box plots, call the .plot function from the DataFrame object."
   ]
  },
  {
   "cell_type": "code",
   "execution_count": 74,
   "metadata": {
    "collapsed": true
   },
   "outputs": [],
   "source": [
    "%matplotlib inline"
   ]
  },
  {
   "cell_type": "code",
   "execution_count": 82,
   "metadata": {
    "collapsed": false,
    "nbpresent": {
     "id": "3ebffe0c-983d-4c8e-a060-7df7cc27650c"
    }
   },
   "outputs": [
    {
     "data": {
      "text/plain": [
       "<matplotlib.axes._subplots.AxesSubplot at 0xb7cad68>"
      ]
     },
     "execution_count": 82,
     "metadata": {},
     "output_type": "execute_result"
    },
    {
     "data": {
      "image/png": "[encoded data removed]",
      "text/plain": [
       "<matplotlib.figure.Figure at 0xb8431d0>"
      ]
     },
     "metadata": {},
     "output_type": "display_data"
    }
   ],
   "source": [
    "pivot_table.plot(kind='pie')"
   ]
  },
  {
   "cell_type": "code",
   "execution_count": 95,
   "metadata": {
    "collapsed": false,
    "nbpresent": {
     "id": "b0c30cc1-be1c-4b8b-8691-e032be4edf41"
    }
   },
   "outputs": [],
   "source": [
    "fig.figure.savefig('graph.png')"
   ]
  },
  {
   "cell_type": "code",
   "execution_count": null,
   "metadata": {
    "collapsed": true
   },
   "outputs": [],
   "source": []
  }
 ],
 "metadata": {
  "anaconda-cloud": {},
  "kernelspec": {
   "display_name": "Python [default]",
   "language": "python",
   "name": "python2"
  },
  "language_info": {
   "codemirror_mode": {
    "name": "ipython",
    "version": 2
   },
   "file_extension": ".py",
   "mimetype": "text/x-python",
   "name": "python",
   "nbconvert_exporter": "python",
   "pygments_lexer": "ipython2",
   "version": "2.7.12"
  },
  "nbpresent": {
   "slides": {},
   "themes": {}
  }
 },
 "nbformat": 4,
 "nbformat_minor": 1
}
