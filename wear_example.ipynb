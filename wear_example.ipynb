{
 "cells": [
  {
   "cell_type": "markdown",
   "metadata": {},
   "source": [
    "# Example : Tracking Component Life\n",
    "This script tracks the wear pattern of different designs for the component. Normally this would be done over a larger population. The data gets dumped in a central database everynight and the report is generated and reviewed weekly until the part reaches a certain limit of hours."
   ]
  },
  {
   "cell_type": "code",
   "execution_count": 1,
   "metadata": {
    "collapsed": true
   },
   "outputs": [],
   "source": [
    "import pandas as pd\n",
    "import matplotlib.pyplot as plt\n",
    "import pyodbc as db\n",
    "import numpy as np"
   ]
  },
  {
   "cell_type": "code",
   "execution_count": 69,
   "metadata": {
    "collapsed": true
   },
   "outputs": [],
   "source": [
    "data_set = pd.read_csv('wear_data.csv')"
   ]
  },
  {
   "cell_type": "code",
   "execution_count": 70,
   "metadata": {
    "collapsed": false
   },
   "outputs": [],
   "source": [
    "data_set.drop(0,inplace=True)"
   ]
  },
  {
   "cell_type": "code",
   "execution_count": 114,
   "metadata": {
    "collapsed": false
   },
   "outputs": [
    {
     "data": {
      "text/html": [
       "<div>\n",
       "<table border=\"1\" class=\"dataframe\">\n",
       "  <thead>\n",
       "    <tr style=\"text-align: right;\">\n",
       "      <th></th>\n",
       "      <th>Hours</th>\n",
       "      <th>A_EI</th>\n",
       "      <th>A_EO</th>\n",
       "      <th>A_II</th>\n",
       "      <th>A_IO</th>\n",
       "      <th>B_EI</th>\n",
       "      <th>B_EO</th>\n",
       "      <th>B_II</th>\n",
       "      <th>B_IO</th>\n",
       "    </tr>\n",
       "  </thead>\n",
       "  <tbody>\n",
       "    <tr>\n",
       "      <th>1</th>\n",
       "      <td>778.0</td>\n",
       "      <td>0.24</td>\n",
       "      <td>0.10</td>\n",
       "      <td>0.04</td>\n",
       "      <td>0.07</td>\n",
       "      <td>0.32</td>\n",
       "      <td>0.08</td>\n",
       "      <td>0.04</td>\n",
       "      <td>0.08</td>\n",
       "    </tr>\n",
       "    <tr>\n",
       "      <th>2</th>\n",
       "      <td>2141.0</td>\n",
       "      <td>0.25</td>\n",
       "      <td>0.10</td>\n",
       "      <td>0.08</td>\n",
       "      <td>0.11</td>\n",
       "      <td>0.30</td>\n",
       "      <td>0.07</td>\n",
       "      <td>0.05</td>\n",
       "      <td>0.09</td>\n",
       "    </tr>\n",
       "    <tr>\n",
       "      <th>3</th>\n",
       "      <td>3756.0</td>\n",
       "      <td>0.23</td>\n",
       "      <td>0.11</td>\n",
       "      <td>0.08</td>\n",
       "      <td>0.11</td>\n",
       "      <td>0.30</td>\n",
       "      <td>0.12</td>\n",
       "      <td>0.04</td>\n",
       "      <td>0.08</td>\n",
       "    </tr>\n",
       "    <tr>\n",
       "      <th>4</th>\n",
       "      <td>5266.0</td>\n",
       "      <td>0.25</td>\n",
       "      <td>0.10</td>\n",
       "      <td>0.08</td>\n",
       "      <td>0.11</td>\n",
       "      <td>0.34</td>\n",
       "      <td>0.10</td>\n",
       "      <td>0.04</td>\n",
       "      <td>0.08</td>\n",
       "    </tr>\n",
       "    <tr>\n",
       "      <th>5</th>\n",
       "      <td>6726.0</td>\n",
       "      <td>0.33</td>\n",
       "      <td>0.13</td>\n",
       "      <td>0.08</td>\n",
       "      <td>0.15</td>\n",
       "      <td>0.37</td>\n",
       "      <td>0.10</td>\n",
       "      <td>0.03</td>\n",
       "      <td>0.08</td>\n",
       "    </tr>\n",
       "    <tr>\n",
       "      <th>6</th>\n",
       "      <td>8261.0</td>\n",
       "      <td>0.32</td>\n",
       "      <td>0.13</td>\n",
       "      <td>0.06</td>\n",
       "      <td>0.14</td>\n",
       "      <td>0.49</td>\n",
       "      <td>0.10</td>\n",
       "      <td>0.06</td>\n",
       "      <td>0.10</td>\n",
       "    </tr>\n",
       "    <tr>\n",
       "      <th>7</th>\n",
       "      <td>9734.0</td>\n",
       "      <td>0.30</td>\n",
       "      <td>0.16</td>\n",
       "      <td>0.11</td>\n",
       "      <td>0.13</td>\n",
       "      <td>0.63</td>\n",
       "      <td>0.07</td>\n",
       "      <td>0.04</td>\n",
       "      <td>0.09</td>\n",
       "    </tr>\n",
       "    <tr>\n",
       "      <th>8</th>\n",
       "      <td>11255.0</td>\n",
       "      <td>0.31</td>\n",
       "      <td>0.15</td>\n",
       "      <td>0.08</td>\n",
       "      <td>0.13</td>\n",
       "      <td>0.63</td>\n",
       "      <td>0.08</td>\n",
       "      <td>0.04</td>\n",
       "      <td>0.09</td>\n",
       "    </tr>\n",
       "    <tr>\n",
       "      <th>9</th>\n",
       "      <td>12650.0</td>\n",
       "      <td>0.31</td>\n",
       "      <td>0.15</td>\n",
       "      <td>0.08</td>\n",
       "      <td>0.10</td>\n",
       "      <td>0.63</td>\n",
       "      <td>0.08</td>\n",
       "      <td>0.04</td>\n",
       "      <td>0.09</td>\n",
       "    </tr>\n",
       "  </tbody>\n",
       "</table>\n",
       "</div>"
      ],
      "text/plain": [
       "     Hours  A_EI  A_EO  A_II  A_IO  B_EI  B_EO  B_II  B_IO\n",
       "1    778.0  0.24  0.10  0.04  0.07  0.32  0.08  0.04  0.08\n",
       "2   2141.0  0.25  0.10  0.08  0.11  0.30  0.07  0.05  0.09\n",
       "3   3756.0  0.23  0.11  0.08  0.11  0.30  0.12  0.04  0.08\n",
       "4   5266.0  0.25  0.10  0.08  0.11  0.34  0.10  0.04  0.08\n",
       "5   6726.0  0.33  0.13  0.08  0.15  0.37  0.10  0.03  0.08\n",
       "6   8261.0  0.32  0.13  0.06  0.14  0.49  0.10  0.06  0.10\n",
       "7   9734.0  0.30  0.16  0.11  0.13  0.63  0.07  0.04  0.09\n",
       "8  11255.0  0.31  0.15  0.08  0.13  0.63  0.08  0.04  0.09\n",
       "9  12650.0  0.31  0.15  0.08  0.10  0.63  0.08  0.04  0.09"
      ]
     },
     "execution_count": 114,
     "metadata": {},
     "output_type": "execute_result"
    }
   ],
   "source": [
    "data_set"
   ]
  },
  {
   "cell_type": "code",
   "execution_count": 112,
   "metadata": {
    "collapsed": false,
    "scrolled": true
   },
   "outputs": [],
   "source": [
    "cutoff_wear = 0.1\n",
    "wear_rate = pd.DataFrame(index=['RATE','EXPECTED_LIFE'])\n",
    "for i in data_set.columns[1:]:\n",
    "    wear_rate.insert(len(wear_rate.columns),i,np.polyfit(data_set['Hours'].values,data_set[i].values,1)[0])\n",
    "wear_rate.ix['EXPECTED_LIFE'] = cutoff_wear/wear_rate.ix['RATE']\n",
    "\n"
   ]
  },
  {
   "cell_type": "code",
   "execution_count": 113,
   "metadata": {
    "collapsed": false
   },
   "outputs": [
    {
     "data": {
      "text/html": [
       "<div>\n",
       "<table border=\"1\" class=\"dataframe\">\n",
       "  <thead>\n",
       "    <tr style=\"text-align: right;\">\n",
       "      <th></th>\n",
       "      <th>A_EI</th>\n",
       "      <th>A_EO</th>\n",
       "      <th>A_II</th>\n",
       "      <th>A_IO</th>\n",
       "      <th>B_EI</th>\n",
       "      <th>B_EO</th>\n",
       "      <th>B_II</th>\n",
       "      <th>B_IO</th>\n",
       "    </tr>\n",
       "  </thead>\n",
       "  <tbody>\n",
       "    <tr>\n",
       "      <th>RATE</th>\n",
       "      <td>0.000007</td>\n",
       "      <td>0.000005</td>\n",
       "      <td>0.000002</td>\n",
       "      <td>0.000003</td>\n",
       "      <td>0.000034</td>\n",
       "      <td>-7.578215e-07</td>\n",
       "      <td>-1.132999e-07</td>\n",
       "      <td>8.874453e-07</td>\n",
       "    </tr>\n",
       "    <tr>\n",
       "      <th>EXPECTED_LIFE</th>\n",
       "      <td>13398.181244</td>\n",
       "      <td>18696.960541</td>\n",
       "      <td>45153.481198</td>\n",
       "      <td>35806.319520</td>\n",
       "      <td>2951.988795</td>\n",
       "      <td>-1.319572e+05</td>\n",
       "      <td>-8.826136e+05</td>\n",
       "      <td>1.126830e+05</td>\n",
       "    </tr>\n",
       "  </tbody>\n",
       "</table>\n",
       "</div>"
      ],
      "text/plain": [
       "                       A_EI          A_EO          A_II          A_IO  \\\n",
       "RATE               0.000007      0.000005      0.000002      0.000003   \n",
       "EXPECTED_LIFE  13398.181244  18696.960541  45153.481198  35806.319520   \n",
       "\n",
       "                      B_EI          B_EO          B_II          B_IO  \n",
       "RATE              0.000034 -7.578215e-07 -1.132999e-07  8.874453e-07  \n",
       "EXPECTED_LIFE  2951.988795 -1.319572e+05 -8.826136e+05  1.126830e+05  "
      ]
     },
     "execution_count": 113,
     "metadata": {},
     "output_type": "execute_result"
    }
   ],
   "source": [
    "wear_rate"
   ]
  },
  {
   "cell_type": "code",
   "execution_count": 56,
   "metadata": {
    "collapsed": false
   },
   "outputs": [],
   "source": [
    "plt.style.use('ggplot')\n"
   ]
  },
  {
   "cell_type": "code",
   "execution_count": 125,
   "metadata": {
    "collapsed": false
   },
   "outputs": [
    {
     "data": {
      "text/plain": [
       "<matplotlib.text.Text at 0xe1d89e8>"
      ]
     },
     "execution_count": 125,
     "metadata": {},
     "output_type": "execute_result"
    },
    {
     "data": {
      "image/png": "[encoded data removed]",
      "text/plain": [
       "<matplotlib.figure.Figure at 0xc013eb8>"
      ]
     },
     "metadata": {},
     "output_type": "display_data"
    }
   ],
   "source": [
    "for i in data_set.columns[1:]:\n",
    "    plt.plot(data_set['Hours'].values,data_set[i].values)\n",
    "plt.legend(data_set.columns[1:])\n",
    "plt.xlabel('Hours')\n",
    "plt.ylabel('Wear (mm)')\n",
    "\n",
    "\n"
   ]
  },
  {
   "cell_type": "code",
   "execution_count": null,
   "metadata": {
    "collapsed": true
   },
   "outputs": [],
   "source": []
  }
 ],
 "metadata": {
  "kernelspec": {
   "display_name": "Python [default]",
   "language": "python",
   "name": "python2"
  },
  "language_info": {
   "codemirror_mode": {
    "name": "ipython",
    "version": 2
   },
   "file_extension": ".py",
   "mimetype": "text/x-python",
   "name": "python",
   "nbconvert_exporter": "python",
   "pygments_lexer": "ipython2",
   "version": "2.7.12"
  }
 },
 "nbformat": 4,
 "nbformat_minor": 1
}
